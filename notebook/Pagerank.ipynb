{
 "cells": [
  {
   "cell_type": "code",
   "execution_count": 61,
   "metadata": {},
   "outputs": [],
   "source": [
    "import pandas as pd \n",
    "import matplotlib.pyplot as plt\n",
    "import numpy as np\n",
    "from networkx.drawing.nx_agraph import to_agraph \n",
    "import networkx as nx\n",
    "import pygraphviz as pgv\n",
    "from IPython.display import display_svg,display"
   ]
  },
  {
   "cell_type": "code",
   "execution_count": 62,
   "metadata": {},
   "outputs": [
    {
     "name": "stdout",
     "output_type": "stream",
     "text": [
      "2.3\n"
     ]
    }
   ],
   "source": [
    "import pandas as pd\n",
    "\n",
    "print(nx.__version__)"
   ]
  },
  {
   "cell_type": "markdown",
   "metadata": {},
   "source": [
    "# データの想定"
   ]
  },
  {
   "cell_type": "code",
   "execution_count": 63,
   "metadata": {},
   "outputs": [],
   "source": [
    "import random, string\n",
    "\n",
    "def randomname(n):\n",
    "    return ''.join(random.choices(string.ascii_letters + string.digits, k=n))\n"
   ]
  },
  {
   "cell_type": "code",
   "execution_count": null,
   "metadata": {},
   "outputs": [],
   "source": []
  },
  {
   "cell_type": "code",
   "execution_count": 64,
   "metadata": {},
   "outputs": [
    {
     "data": {
      "text/plain": [
       "['NeUq.com', 'AFjE.com', 'Kzb0.com', 'q1Tk.com', 'sFRR.com']"
      ]
     },
     "execution_count": 64,
     "metadata": {},
     "output_type": "execute_result"
    }
   ],
   "source": [
    "url =['NeUq.com', 'AFjE.com', 'Kzb0.com', 'q1Tk.com', 'sFRR.com']\n",
    "url\n"
   ]
  },
  {
   "cell_type": "code",
   "execution_count": 65,
   "metadata": {},
   "outputs": [],
   "source": [
    "edges_weight = [\n",
    "    (0, 1, 3), (1, 2, 1), (1, 3, 3),(2, 3, 4), (1, 0, 2),(2, 0, 7),(3, 1, 2),(1, 4, 2),\n",
    "    ]"
   ]
  },
  {
   "cell_type": "code",
   "execution_count": 66,
   "metadata": {},
   "outputs": [],
   "source": [
    "current_url = []\n",
    "to_url = []\n",
    "for t in edges_weight:\n",
    "    for i in range(t[2]):\n",
    "        current_url.append(url[t[0]])\n",
    "        to_url.append(url[t[1]])\n"
   ]
  },
  {
   "cell_type": "code",
   "execution_count": 67,
   "metadata": {},
   "outputs": [],
   "source": [
    "data = pd.DataFrame({\"url\":current_url, \"to\":to_url})"
   ]
  },
  {
   "cell_type": "code",
   "execution_count": 68,
   "metadata": {},
   "outputs": [
    {
     "data": {
      "text/html": [
       "<div>\n",
       "<style scoped>\n",
       "    .dataframe tbody tr th:only-of-type {\n",
       "        vertical-align: middle;\n",
       "    }\n",
       "\n",
       "    .dataframe tbody tr th {\n",
       "        vertical-align: top;\n",
       "    }\n",
       "\n",
       "    .dataframe thead th {\n",
       "        text-align: right;\n",
       "    }\n",
       "</style>\n",
       "<table border=\"1\" class=\"dataframe\">\n",
       "  <thead>\n",
       "    <tr style=\"text-align: right;\">\n",
       "      <th></th>\n",
       "      <th>url</th>\n",
       "      <th>to</th>\n",
       "    </tr>\n",
       "  </thead>\n",
       "  <tbody>\n",
       "    <tr>\n",
       "      <th>0</th>\n",
       "      <td>NeUq.com</td>\n",
       "      <td>AFjE.com</td>\n",
       "    </tr>\n",
       "    <tr>\n",
       "      <th>1</th>\n",
       "      <td>NeUq.com</td>\n",
       "      <td>AFjE.com</td>\n",
       "    </tr>\n",
       "    <tr>\n",
       "      <th>2</th>\n",
       "      <td>NeUq.com</td>\n",
       "      <td>AFjE.com</td>\n",
       "    </tr>\n",
       "    <tr>\n",
       "      <th>3</th>\n",
       "      <td>AFjE.com</td>\n",
       "      <td>Kzb0.com</td>\n",
       "    </tr>\n",
       "    <tr>\n",
       "      <th>4</th>\n",
       "      <td>AFjE.com</td>\n",
       "      <td>q1Tk.com</td>\n",
       "    </tr>\n",
       "  </tbody>\n",
       "</table>\n",
       "</div>"
      ],
      "text/plain": [
       "        url        to\n",
       "0  NeUq.com  AFjE.com\n",
       "1  NeUq.com  AFjE.com\n",
       "2  NeUq.com  AFjE.com\n",
       "3  AFjE.com  Kzb0.com\n",
       "4  AFjE.com  q1Tk.com"
      ]
     },
     "execution_count": 68,
     "metadata": {},
     "output_type": "execute_result"
    }
   ],
   "source": [
    "data.head()"
   ]
  },
  {
   "cell_type": "code",
   "execution_count": 50,
   "metadata": {},
   "outputs": [],
   "source": [
    "data_count = data.groupby([\"url\", \"to\"]).size().reset_index(name = \"count\")"
   ]
  },
  {
   "cell_type": "code",
   "execution_count": 51,
   "metadata": {},
   "outputs": [],
   "source": [
    "data_sum = data_count.groupby([\"url\"]).sum().reset_index().rename(columns = {\"count\":\"sum\"})"
   ]
  },
  {
   "cell_type": "code",
   "execution_count": 52,
   "metadata": {},
   "outputs": [],
   "source": [
    "data_merged = pd.merge(data_count,data_sum, how = \"left\", on = \"url\")"
   ]
  },
  {
   "cell_type": "code",
   "execution_count": 53,
   "metadata": {},
   "outputs": [],
   "source": [
    "data_merged[\"weight\"] = data_merged[\"count\"]/data_merged[\"sum\"]"
   ]
  },
  {
   "cell_type": "code",
   "execution_count": 54,
   "metadata": {},
   "outputs": [
    {
     "data": {
      "text/html": [
       "<div>\n",
       "<style scoped>\n",
       "    .dataframe tbody tr th:only-of-type {\n",
       "        vertical-align: middle;\n",
       "    }\n",
       "\n",
       "    .dataframe tbody tr th {\n",
       "        vertical-align: top;\n",
       "    }\n",
       "\n",
       "    .dataframe thead th {\n",
       "        text-align: right;\n",
       "    }\n",
       "</style>\n",
       "<table border=\"1\" class=\"dataframe\">\n",
       "  <thead>\n",
       "    <tr style=\"text-align: right;\">\n",
       "      <th></th>\n",
       "      <th>url</th>\n",
       "      <th>to</th>\n",
       "      <th>count</th>\n",
       "      <th>sum</th>\n",
       "      <th>weight</th>\n",
       "    </tr>\n",
       "  </thead>\n",
       "  <tbody>\n",
       "    <tr>\n",
       "      <th>0</th>\n",
       "      <td>AFjE.com</td>\n",
       "      <td>Kzb0.com</td>\n",
       "      <td>1</td>\n",
       "      <td>8</td>\n",
       "      <td>0.125000</td>\n",
       "    </tr>\n",
       "    <tr>\n",
       "      <th>1</th>\n",
       "      <td>AFjE.com</td>\n",
       "      <td>NeUq.com</td>\n",
       "      <td>2</td>\n",
       "      <td>8</td>\n",
       "      <td>0.250000</td>\n",
       "    </tr>\n",
       "    <tr>\n",
       "      <th>2</th>\n",
       "      <td>AFjE.com</td>\n",
       "      <td>q1Tk.com</td>\n",
       "      <td>3</td>\n",
       "      <td>8</td>\n",
       "      <td>0.375000</td>\n",
       "    </tr>\n",
       "    <tr>\n",
       "      <th>3</th>\n",
       "      <td>AFjE.com</td>\n",
       "      <td>sFRR.com</td>\n",
       "      <td>2</td>\n",
       "      <td>8</td>\n",
       "      <td>0.250000</td>\n",
       "    </tr>\n",
       "    <tr>\n",
       "      <th>4</th>\n",
       "      <td>Kzb0.com</td>\n",
       "      <td>NeUq.com</td>\n",
       "      <td>7</td>\n",
       "      <td>11</td>\n",
       "      <td>0.636364</td>\n",
       "    </tr>\n",
       "  </tbody>\n",
       "</table>\n",
       "</div>"
      ],
      "text/plain": [
       "        url        to  count  sum    weight\n",
       "0  AFjE.com  Kzb0.com      1    8  0.125000\n",
       "1  AFjE.com  NeUq.com      2    8  0.250000\n",
       "2  AFjE.com  q1Tk.com      3    8  0.375000\n",
       "3  AFjE.com  sFRR.com      2    8  0.250000\n",
       "4  Kzb0.com  NeUq.com      7   11  0.636364"
      ]
     },
     "execution_count": 54,
     "metadata": {},
     "output_type": "execute_result"
    }
   ],
   "source": [
    "data_merged.head()"
   ]
  },
  {
   "cell_type": "markdown",
   "metadata": {},
   "source": [
    "# 描画"
   ]
  },
  {
   "cell_type": "code",
   "execution_count": 55,
   "metadata": {},
   "outputs": [],
   "source": [
    "G = nx.MultiDiGraph()\n",
    "for i, data in data_merged.iterrows():\n",
    "    G.add_edge(data[\"url\"],data[\"to\"], weight=data[\"weight\"],label=data[\"count\"])\n",
    "    \n",
    "A = to_agraph(G) \n",
    "A.layout('dot')                                                                 \n",
    "A.draw('multi.png')   \n"
   ]
  },
  {
   "cell_type": "code",
   "execution_count": 56,
   "metadata": {},
   "outputs": [
    {
     "data": {
      "image/png": "[encoded data removed]",
      "text/plain": [
       "<Figure size 432x288 with 1 Axes>"
      ]
     },
     "metadata": {
      "needs_background": "light"
     },
     "output_type": "display_data"
    }
   ],
   "source": [
    "from PIL import Image\n",
    "\n",
    "#画像の読み込み\n",
    "im = Image.open(\"../fig/multi.png\")\n",
    "\n",
    "#画像をarrayに変換\n",
    "im_list = np.asarray(im)\n",
    "#貼り付け\n",
    "plt.imshow(im_list)\n",
    "#表示\n",
    "plt.show()"
   ]
  },
  {
   "cell_type": "code",
   "execution_count": 57,
   "metadata": {},
   "outputs": [
    {
     "data": {
      "text/plain": [
       "{'AFjE.com': 0.3833304457546468,\n",
       " 'Kzb0.com': 0.0935575494432224,\n",
       " 'NeUq.com': 0.18489253832166933,\n",
       " 'q1Tk.com': 0.203933057175808,\n",
       " 'sFRR.com': 0.1342864093046534}"
      ]
     },
     "execution_count": 57,
     "metadata": {},
     "output_type": "execute_result"
    }
   ],
   "source": [
    "pr = nx.pagerank_numpy(G, alpha=0.85)\n",
    "pr"
   ]
  },
  {
   "cell_type": "code",
   "execution_count": null,
   "metadata": {},
   "outputs": [],
   "source": [
    "\n"
   ]
  },
  {
   "cell_type": "code",
   "execution_count": null,
   "metadata": {},
   "outputs": [],
   "source": []
  },
  {
   "cell_type": "code",
   "execution_count": 58,
   "metadata": {},
   "outputs": [],
   "source": [
    "class PageRank():\n",
    "    \n",
    "    def __init__(self,d = 0.85,eta = 0.000001, max_iter = 100):\n",
    "        self.d = d\n",
    "        self.eta = eta\n",
    "        self.mat_iter = max_iter\n",
    "    \n",
    "    def get_rank(self,data):\n",
    "        url_ls = list(set(list(data_merged[\"url\"].values) + list(data_merged[\"to\"].values)))\n",
    "\n",
    "        url_dic ={_url:i for i,_url in enumerate(url_ls)}            \n",
    "    \n",
    "        edges_weight = [(url_dic[data[\"url\"]], url_dic[data[\"to\"]], data[\"weight\"]) for i,data in data_merged.iterrows()]\n",
    "\n",
    "        self.N = len(url_dic.keys())\n",
    "        \n",
    "        mat = np.zeros((self.N, self.N))\n",
    "        for t in edges_weight:\n",
    "            mat[t[0],t[1]] = t[2]\n",
    "            \n",
    "        sm = np.sum(mat, axis = 1)\n",
    "\n",
    "        # sthostic\n",
    "        for i, v in enumerate(sm):\n",
    "            mat[i] =1/self.N if v == 0 else mat[i]/v\n",
    "\n",
    "        \n",
    "        # primitive\n",
    "        \n",
    "        # primitive adjustmentのための行列(G行列を作成)\n",
    "        pr = np.full_like(np.zeros((self.N,self.N)), 1/self.N)\n",
    "        G = self.d * mat + (1-self.d)  * pr\n",
    "        r = self._cal(G)\n",
    "        rv_url_dic = {v:k for k, v in url_dic.items()}\n",
    "        \n",
    "        return {rv_url_dic[i]:_rk for i, _rk in enumerate(r)}\n",
    "            \n",
    "        \n",
    "        \n",
    "        \n",
    "    def _cal(self,G):\n",
    "        # 固有値ベクトルの初期値\n",
    "\n",
    "        r = np.array([1/self.N for i in range(self.N)])\n",
    "        for _ in range(self.mat_iter):\n",
    "            new_r = np.dot(r.T,G)\n",
    "            diff = np.sum(np.abs(new_r - r))\n",
    "            if diff < self.eta:\n",
    "                break\n",
    "            r = new_r\n",
    "        return r\n"
   ]
  },
  {
   "cell_type": "code",
   "execution_count": 59,
   "metadata": {},
   "outputs": [],
   "source": [
    "model = PageRank()"
   ]
  },
  {
   "cell_type": "code",
   "execution_count": 60,
   "metadata": {},
   "outputs": [
    {
     "data": {
      "text/plain": [
       "{'AFjE.com': 0.38333069574213952,\n",
       " 'Kzb0.com': 0.093557524234423123,\n",
       " 'NeUq.com': 0.1848924903831852,\n",
       " 'q1Tk.com': 0.20393295225260635,\n",
       " 'sFRR.com': 0.13428633738764656}"
      ]
     },
     "execution_count": 60,
     "metadata": {},
     "output_type": "execute_result"
    }
   ],
   "source": [
    "model.get_rank(data_merged)"
   ]
  },
  {
   "cell_type": "code",
   "execution_count": null,
   "metadata": {},
   "outputs": [],
   "source": []
  },
  {
   "cell_type": "code",
   "execution_count": null,
   "metadata": {},
   "outputs": [],
   "source": []
  }
 ],
 "metadata": {
  "kernelspec": {
   "display_name": "Python 3",
   "language": "python",
   "name": "python3"
  },
  "language_info": {
   "codemirror_mode": {
    "name": "ipython",
    "version": 3
   },
   "file_extension": ".py",
   "mimetype": "text/x-python",
   "name": "python",
   "nbconvert_exporter": "python",
   "pygments_lexer": "ipython3",
   "version": "3.6.8"
  },
  "toc": {
   "colors": {
    "hover_highlight": "#DAA520",
    "navigate_num": "#000000",
    "navigate_text": "#333333",
    "running_highlight": "#FF0000",
    "selected_highlight": "#FFD700",
    "sidebar_border": "#EEEEEE",
    "wrapper_background": "#FFFFFF"
   },
   "moveMenuLeft": true,
   "nav_menu": {
    "height": "66px",
    "width": "252px"
   },
   "navigate_menu": true,
   "number_sections": true,
   "sideBar": true,
   "threshold": 4.0,
   "toc_cell": false,
   "toc_section_display": "block",
   "toc_window_display": false,
   "widenNotebook": false
  }
 },
 "nbformat": 4,
 "nbformat_minor": 2
}
